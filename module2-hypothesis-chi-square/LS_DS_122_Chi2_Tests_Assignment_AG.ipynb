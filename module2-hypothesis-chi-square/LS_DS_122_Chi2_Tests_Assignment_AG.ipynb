{
  "nbformat": 4,
  "nbformat_minor": 0,
  "metadata": {
    "colab": {
      "name": "LS_DS_122_Chi2_Tests_Assignment_AG.ipynb",
      "provenance": [],
      "collapsed_sections": []
    },
    "kernelspec": {
      "display_name": "Python 3",
      "language": "python",
      "name": "python3"
    },
    "language_info": {
      "codemirror_mode": {
        "name": "ipython",
        "version": 3
      },
      "file_extension": ".py",
      "mimetype": "text/x-python",
      "name": "python",
      "nbconvert_exporter": "python",
      "pygments_lexer": "ipython3",
      "version": "3.7.4"
    }
  },
  "cells": [
    {
      "cell_type": "markdown",
      "metadata": {
        "id": "6g9iOqyivJnZ"
      },
      "source": [
        "## Autograded Notebook (Canvas & CodeGrade)\n",
        "\n",
        "This notebook will be automatically graded. It is designed to test your answers and award points for the correct answers. Following the instructions for each Task carefully.\n",
        "\n",
        "### Instructions\n",
        "\n",
        "* **Download this notebook** as you would any other ipynb file\n",
        "* **Upload** to Google Colab or work locally (if you have that set-up)\n",
        "* **Delete `raise NotImplementedError()`**\n",
        "* Write your code in the `# YOUR CODE HERE` space\n",
        "* **Execute** the Test cells that contain `assert` statements - these help you check your work (others contain hidden tests that will be checked when you submit through Canvas)\n",
        "* **Save** your notebook when you are finished\n",
        "* **Download** as a `ipynb` file (if working in Colab)\n",
        "* **Upload** your complete notebook to Canvas (there will be additional instructions in Slack and/or Canvas)"
      ]
    },
    {
      "cell_type": "markdown",
      "metadata": {
        "id": "11OzdxWTM7UR"
      },
      "source": [
        "# Lambda School Data Science - Unit 1 Sprint 2 Module 2\n",
        "\n",
        "## Hypothesis Testing - Chi square tests\n",
        "\n",
        "### Objectives\n",
        "\n",
        "* Objective 01 - explain the purpose of a chi-square test and identify applications\n",
        "* Objective 02 - set up a chi-square test for independence on two categorical variables\n",
        "* Objective 03 - use a chi-square test p-value to draw the correct conclusion about the null and alternative hypothesis\n",
        "* Objective 04 - explain how to compare the null hypothesis and sample and how randomness in the sampling process affect the result\n",
        "\n",
        "#### Total notebook points: 9"
      ]
    },
    {
      "cell_type": "markdown",
      "metadata": {
        "id": "Q6x9gnZ4mY84"
      },
      "source": [
        "### Introduction\n",
        "\n",
        "Slasher movies thrill audiences by portraying a lone antagonist (typically male) who attacks innocent victims with extreme violence and without apparent motive. However, this exciting (if gory) subgenre of horror film is criticized by those who view the violence as being used to “punish” female characters who engage in sexual activity during the film. \n",
        "\n",
        "### Dataset description:\n",
        "\n",
        "To test this claim, study authors randomly sampled 50 North American slasher films released from 1960 to 2009 and coded the 485 characters appearing in them as being male or female, involved in sexual activity or not, and if they survived the film or not. \n",
        "\n",
        "The data appears in the `Slasher.csv` dataset. In this project, we are going to answer a slightly simpler question: Are female characters in slasher films more likely to be \"murdered\" than male characters?\n",
        "\n",
        "You can find the `Slasher.csv` file and more information [here](https://github.com/LambdaSchool/data-science-practice-datasets/tree/main/unit_1/Slasher)\n",
        "\n",
        "*Source: A. Welsh (2010). \"On the Perils of Living Dangerously in the Slasher Horror Film: Gender Differences in the Association Between Sexual Activity and Survival,\" Sex Roles, Vol. 62 pp. 762-773*"
      ]
    },
    {
      "cell_type": "markdown",
      "metadata": {
        "id": "k52V7jhtnAVz"
      },
      "source": [
        "**Task 1** - Load the data\n",
        "\n",
        "Let's load the data! The URL has been provided as well as the imports for pandas and numpy.\n",
        "\n",
        "* load your CSV file into a DataFrame named `df_slasher`"
      ]
    },
    {
      "cell_type": "code",
      "metadata": {
        "colab": {
          "base_uri": "https://localhost:8080/",
          "height": 206
        },
        "deletable": false,
        "id": "UQwvrhn7m3Mn",
        "nbgrader": {
          "cell_type": "code",
          "checksum": "2e829144ca7fa7cf960e43151e5daed5",
          "grade": false,
          "grade_id": "cell-6fc98919867ff62a",
          "locked": false,
          "schema_version": 3,
          "solution": true,
          "task": false
        },
        "outputId": "6a7de3bd-ba57-4cd8-a52c-2d21b0acea34"
      },
      "source": [
        "# Task 1\n",
        "\n",
        "# Imports \n",
        "import pandas as pd\n",
        "import numpy as np\n",
        "\n",
        "data_url = 'https://raw.githubusercontent.com/LambdaSchool/data-science-practice-datasets/main/unit_1/Slasher/Slasher.csv'\n",
        "\n",
        "# YOUR CODE HERE\n",
        "#raise NotImplementedError()\n",
        "df_slasher = pd.read_csv(data_url)\n",
        "# Print out your DataFrame\n",
        "df_slasher.head()"
      ],
      "execution_count": 5,
      "outputs": [
        {
          "output_type": "execute_result",
          "data": {
            "text/html": [
              "<div>\n",
              "<style scoped>\n",
              "    .dataframe tbody tr th:only-of-type {\n",
              "        vertical-align: middle;\n",
              "    }\n",
              "\n",
              "    .dataframe tbody tr th {\n",
              "        vertical-align: top;\n",
              "    }\n",
              "\n",
              "    .dataframe thead th {\n",
              "        text-align: right;\n",
              "    }\n",
              "</style>\n",
              "<table border=\"1\" class=\"dataframe\">\n",
              "  <thead>\n",
              "    <tr style=\"text-align: right;\">\n",
              "      <th></th>\n",
              "      <th>ID</th>\n",
              "      <th>Gender</th>\n",
              "      <th>Activity</th>\n",
              "      <th>Survival</th>\n",
              "    </tr>\n",
              "  </thead>\n",
              "  <tbody>\n",
              "    <tr>\n",
              "      <th>0</th>\n",
              "      <td>1</td>\n",
              "      <td>1</td>\n",
              "      <td>1</td>\n",
              "      <td>1</td>\n",
              "    </tr>\n",
              "    <tr>\n",
              "      <th>1</th>\n",
              "      <td>2</td>\n",
              "      <td>1</td>\n",
              "      <td>1</td>\n",
              "      <td>1</td>\n",
              "    </tr>\n",
              "    <tr>\n",
              "      <th>2</th>\n",
              "      <td>3</td>\n",
              "      <td>1</td>\n",
              "      <td>1</td>\n",
              "      <td>1</td>\n",
              "    </tr>\n",
              "    <tr>\n",
              "      <th>3</th>\n",
              "      <td>4</td>\n",
              "      <td>1</td>\n",
              "      <td>1</td>\n",
              "      <td>1</td>\n",
              "    </tr>\n",
              "    <tr>\n",
              "      <th>4</th>\n",
              "      <td>5</td>\n",
              "      <td>1</td>\n",
              "      <td>1</td>\n",
              "      <td>1</td>\n",
              "    </tr>\n",
              "  </tbody>\n",
              "</table>\n",
              "</div>"
            ],
            "text/plain": [
              "   ID  Gender  Activity  Survival\n",
              "0   1       1         1         1\n",
              "1   2       1         1         1\n",
              "2   3       1         1         1\n",
              "3   4       1         1         1\n",
              "4   5       1         1         1"
            ]
          },
          "metadata": {
            "tags": []
          },
          "execution_count": 5
        }
      ]
    },
    {
      "cell_type": "markdown",
      "metadata": {
        "id": "gHhy3LM_nAV1"
      },
      "source": [
        "**Task 1 Test**"
      ]
    },
    {
      "cell_type": "code",
      "metadata": {
        "deletable": false,
        "editable": false,
        "id": "RwCQjQZvnAV1",
        "nbgrader": {
          "cell_type": "code",
          "checksum": "03bde8e4f6611a0622ce84a079e3219c",
          "grade": true,
          "grade_id": "cell-75ba90304308fa78",
          "locked": true,
          "points": 1,
          "schema_version": 3,
          "solution": false,
          "task": false
        }
      },
      "source": [
        "# Task 1 - Test\n",
        "\n",
        "assert isinstance(df_slasher, pd.DataFrame), 'Have you created a DataFrame named `df_slasher`?'\n",
        "assert len(df_slasher) == 485\n"
      ],
      "execution_count": 6,
      "outputs": []
    },
    {
      "cell_type": "markdown",
      "metadata": {
        "id": "pabzhfvLbdFZ"
      },
      "source": [
        "**Task 2**- Character percentages\n",
        "\n",
        "In this dataset, the variable codes are:\n",
        "\n",
        "* ID = Character ID\n",
        "* Gender = Character gender.  0 = male, 1 = female\n",
        "* Activity = Character was portrayed as engaged in sexual activity.  0 = no, 1 = yes\n",
        "* Survival = Character survival in the film. 0 = did not survive, 1 = survived\n",
        "\n",
        "Your task is to calculate the frequency and relative frequency of male and female characters in this set of slasher films.\n",
        "\n",
        "* Compute the freqencies for \"Gender\" for this dataset; call your table `gender_frequencies`\n",
        "* Compute the relative frequency of female characters and call this value `f_percent`\n",
        "* Compute the relative frequency of male characters and call this value `m_percent`"
      ]
    },
    {
      "cell_type": "code",
      "metadata": {
        "deletable": false,
        "id": "9gIQaRsQbt77",
        "nbgrader": {
          "cell_type": "code",
          "checksum": "f37b78a41616862c7bd11114d7b500ab",
          "grade": false,
          "grade_id": "cell-77288bfcb8830288",
          "locked": false,
          "schema_version": 3,
          "solution": true,
          "task": false
        },
        "outputId": "c56833ac-dbe6-426e-9bd8-003282991b90",
        "colab": {
          "base_uri": "https://localhost:8080/"
        }
      },
      "source": [
        "from pandas.core.algorithms import value_counts\n",
        "# Task 2\n",
        "\n",
        "# YOUR CODE HERE\n",
        "gender_frequencies = df_slasher['Gender'].value_counts()\n",
        "print(gender_frequencies)\n",
        "\n",
        "m_percent, f_percent = df_slasher['Gender'].value_counts(normalize = True ) * 100\n",
        "print(m_percent,f_percent)\n",
        "#raise NotImplementedError()"
      ],
      "execution_count": 13,
      "outputs": [
        {
          "output_type": "stream",
          "text": [
            "0    263\n",
            "1    222\n",
            "Name: Gender, dtype: int64\n",
            "54.22680412371134 45.77319587628866\n"
          ],
          "name": "stdout"
        }
      ]
    },
    {
      "cell_type": "markdown",
      "metadata": {
        "id": "HowCFoUDnAV4"
      },
      "source": [
        "**Task 2 Test**"
      ]
    },
    {
      "cell_type": "code",
      "metadata": {
        "deletable": false,
        "editable": false,
        "id": "9B49CpHKnAV4",
        "nbgrader": {
          "cell_type": "code",
          "checksum": "4e4b6b8df97fc568cba7d318e331d2b0",
          "grade": true,
          "grade_id": "cell-fa87a73164a68756",
          "locked": true,
          "points": 1,
          "schema_version": 3,
          "solution": false,
          "task": false
        }
      },
      "source": [
        "# Task 2 - Test\n",
        "\n",
        "assert isinstance(gender_frequencies, pd.Series), 'Have you calculated the gender frequencies?'\n"
      ],
      "execution_count": 14,
      "outputs": []
    },
    {
      "cell_type": "markdown",
      "metadata": {
        "id": "hC68nyUxnAV4"
      },
      "source": [
        "**Task 3** - Character survival\n",
        "\n",
        "Calculate the frequency and relative frequency of character survival in this set of slasher films.\n",
        "\n",
        "* Compute the frequencies for \"Survival\" for this dataset; call your table `survival_frequencies`\n",
        "* Compute the frequency of character survival and call this value `survival`. Make sure to multiply by 100 so your value is a percent."
      ]
    },
    {
      "cell_type": "code",
      "metadata": {
        "colab": {
          "base_uri": "https://localhost:8080/"
        },
        "deletable": false,
        "id": "eATj3sKHnU_c",
        "nbgrader": {
          "cell_type": "code",
          "checksum": "f3c5970ccfde929c4bd4601f7b86e734",
          "grade": false,
          "grade_id": "cell-4eab48a75311bc76",
          "locked": false,
          "schema_version": 3,
          "solution": true,
          "task": false
        },
        "outputId": "5f3e0d7a-0a41-47dc-fd10-e2e4e2847ac2"
      },
      "source": [
        "# Task 3\n",
        "\n",
        "# YOUR CODE HERE\n",
        "#raise NotImplementedError()\n",
        "survival_frequencies = df_slasher['Survival'].value_counts()\n",
        "print(survival_frequencies)\n",
        "# Print the percentage of characters that survive\n",
        "#survival = survival_frequencies.value_counts(normalize = True)*100\n",
        "survival = df_slasher['Survival'].value_counts(normalize = True)*100\n",
        "print('Percentage of characters that survive:', survival)"
      ],
      "execution_count": 24,
      "outputs": [
        {
          "output_type": "stream",
          "text": [
            "0    400\n",
            "1     85\n",
            "Name: Survival, dtype: int64\n",
            "Percentage of characters that survive: 0    82.474227\n",
            "1    17.525773\n",
            "Name: Survival, dtype: float64\n"
          ],
          "name": "stdout"
        }
      ]
    },
    {
      "cell_type": "markdown",
      "metadata": {
        "id": "M2E_0iu9nAV5"
      },
      "source": [
        "**Task 3 Test**"
      ]
    },
    {
      "cell_type": "code",
      "metadata": {
        "deletable": false,
        "editable": false,
        "id": "BtK-cYyjnAV5",
        "nbgrader": {
          "cell_type": "code",
          "checksum": "5047d900e52b72361a95b7563ffa1d27",
          "grade": true,
          "grade_id": "cell-65f8fe93bcc71e0e",
          "locked": true,
          "points": 1,
          "schema_version": 3,
          "solution": false,
          "task": false
        }
      },
      "source": [
        "# Task 3 - Test\n",
        "\n",
        "assert isinstance(survival_frequencies, pd.Series), 'Have you created the frequency table?'\n"
      ],
      "execution_count": 25,
      "outputs": []
    },
    {
      "cell_type": "markdown",
      "metadata": {
        "id": "0K1kuj8yb5BD"
      },
      "source": [
        "**Task 4**- Joint distribution: character survival and character sex\n",
        "\n",
        "Next, we're going to calculate the joint distribution of *character sex (\"Gender\")* and movie *survival*. \n",
        "\n",
        "* Compute the joint distribution for character sex and survival and name your DataFrame `survival_fm_crosstab`. \n",
        "    * **Make sure to use the following order of your variables: \"Gender\", \"Survival\"**\n",
        "\n",
        "*Hint: If you are working from the in-class examples, it will be helpful to include character sex as the index variable. But play around with the arguments of `pd.crosstab()` to get a better idea of your table.*"
      ]
    },
    {
      "cell_type": "code",
      "metadata": {
        "colab": {
          "base_uri": "https://localhost:8080/"
        },
        "deletable": false,
        "id": "c1jdZv29nAV6",
        "nbgrader": {
          "cell_type": "code",
          "checksum": "fdb0400cbf5d01522aa3741819aeceae",
          "grade": false,
          "grade_id": "cell-e352e1d8addc4d6f",
          "locked": false,
          "schema_version": 3,
          "solution": true,
          "task": false
        },
        "outputId": "a71b3cbf-e1a8-4075-b7ae-4b8f810351c4"
      },
      "source": [
        "# Task 4\n",
        "\n",
        "# YOUR CODE HERE\n",
        "#raise NotImplementedError()\n",
        "survival_fm_crosstab = pd.crosstab(df_slasher['Gender'], columns = df_slasher['Survival'])\n",
        "# Print the table\n",
        "print(survival_fm_crosstab)"
      ],
      "execution_count": 26,
      "outputs": [
        {
          "output_type": "stream",
          "text": [
            "Survival    0   1\n",
            "Gender           \n",
            "0         228  35\n",
            "1         172  50\n"
          ],
          "name": "stdout"
        }
      ]
    },
    {
      "cell_type": "markdown",
      "metadata": {
        "id": "Asi1QKnsnAV6"
      },
      "source": [
        "**Task 4 Test**"
      ]
    },
    {
      "cell_type": "code",
      "metadata": {
        "deletable": false,
        "editable": false,
        "id": "sa2yoOhUnAV6",
        "nbgrader": {
          "cell_type": "code",
          "checksum": "1e0ecaf7c6124b3a86aa8aa5310ea391",
          "grade": true,
          "grade_id": "cell-c8de59a977bfeef3",
          "locked": true,
          "points": 1,
          "schema_version": 3,
          "solution": false,
          "task": false
        }
      },
      "source": [
        "# Task 4 - Test\n",
        "\n",
        "assert isinstance(survival_fm_crosstab, pd.DataFrame), 'Have you created the crosstab DataFrame?'\n"
      ],
      "execution_count": 27,
      "outputs": []
    },
    {
      "cell_type": "markdown",
      "metadata": {
        "id": "IRU0Hd1-wCpW"
      },
      "source": [
        "**Task 5** - Joint distribution with margins\n",
        "\n",
        "Now we're going to find the joint distribution but this time add in the **table margins**.\n",
        "\n",
        "* Compute the joint distribution and assign this to a variable called `survival_fm_margins`."
      ]
    },
    {
      "cell_type": "code",
      "metadata": {
        "colab": {
          "base_uri": "https://localhost:8080/"
        },
        "deletable": false,
        "id": "PAe3sdeqoLnh",
        "nbgrader": {
          "cell_type": "code",
          "checksum": "75ea2e5cd2ae9294788681374281bde7",
          "grade": false,
          "grade_id": "cell-189d3e0240b44010",
          "locked": false,
          "schema_version": 3,
          "solution": true,
          "task": false
        },
        "outputId": "2d187d32-a350-4658-d779-e6dd03ac81ac"
      },
      "source": [
        "# Task 5\n",
        "\n",
        "# YOUR CODE HERE\n",
        "#raise NotImplementedError()\n",
        "survival_fm_margins = pd.crosstab(df_slasher['Gender'], columns = df_slasher['Survival'], margins = True)\n",
        "# Print the table\n",
        "print(survival_fm_margins)"
      ],
      "execution_count": 29,
      "outputs": [
        {
          "output_type": "stream",
          "text": [
            "Survival    0   1  All\n",
            "Gender                \n",
            "0         228  35  263\n",
            "1         172  50  222\n",
            "All       400  85  485\n"
          ],
          "name": "stdout"
        }
      ]
    },
    {
      "cell_type": "markdown",
      "metadata": {
        "id": "3qGKjESVTCva"
      },
      "source": [
        "**Task 5 Test**"
      ]
    },
    {
      "cell_type": "code",
      "metadata": {
        "deletable": false,
        "editable": false,
        "id": "evONIn2kTCvb",
        "nbgrader": {
          "cell_type": "code",
          "checksum": "28c728b005e1d2ee587d6e949e72ecfc",
          "grade": true,
          "grade_id": "cell-e4038cbf2add26d5",
          "locked": true,
          "points": 1,
          "schema_version": 3,
          "solution": false,
          "task": false
        }
      },
      "source": [
        "# Task 5 Test\n",
        "\n",
        "assert isinstance(survival_fm_margins, pd.DataFrame), 'Did you create your joint distribution DataFrame?'\n",
        "assert survival_fm_margins.shape == (3,3), \"Did you include the margins in your distribution?\"\n",
        "\n",
        "# NO hidden tests for this task"
      ],
      "execution_count": 30,
      "outputs": []
    },
    {
      "cell_type": "markdown",
      "metadata": {
        "id": "Pf9boTsRpe9J"
      },
      "source": [
        "**Task 6** - Joint distribution with normalization\n",
        "\n",
        "Okay, now let's look at the distribution using the `normalize` argument. We want to compare the *relative* rate of survival. Calculate the distribution of survival conditional on character sex.\n",
        "\n",
        "* Compute the joint distribution for character sex and survival and name your DataFrame `survival_fm_crosstab_norm` **and** normalize on the \"index\"\n",
        "* Multiply the resulting DataFrame by 100 to return answers as percents\n",
        "* Assign the *survival* percentage of female characters to the variable `survival_f`"
      ]
    },
    {
      "cell_type": "code",
      "metadata": {
        "deletable": false,
        "id": "ByWE_M1RpqSy",
        "nbgrader": {
          "cell_type": "code",
          "checksum": "5c02c4a8a74a110046fd3acd106eb821",
          "grade": false,
          "grade_id": "cell-07bcddfda3e9b061",
          "locked": false,
          "schema_version": 3,
          "solution": true,
          "task": false
        }
      },
      "source": [
        "# Task 6\n",
        "\n",
        "# YOUR CODE HERE\n",
        "#raise NotImplementedError()\n",
        "\n",
        "# Print the percentage of female characters that survive\n",
        "print(survival_fm_crosstab_norm)\n",
        "print('Female character survival:', survival_f)"
      ],
      "execution_count": null,
      "outputs": []
    },
    {
      "cell_type": "markdown",
      "metadata": {
        "id": "Kv34u-WRnAV8"
      },
      "source": [
        "**Task 6 Test**"
      ]
    },
    {
      "cell_type": "code",
      "metadata": {
        "deletable": false,
        "editable": false,
        "id": "3H8ZZkWTnAV8",
        "nbgrader": {
          "cell_type": "code",
          "checksum": "3c5e3a961f6d139391cb0a98ff272ece",
          "grade": true,
          "grade_id": "cell-4ebc53965ebbe59c",
          "locked": true,
          "points": 1,
          "schema_version": 3,
          "solution": false,
          "task": false
        }
      },
      "source": [
        "# Task 6 - Test\n",
        "\n",
        "assert isinstance(survival_fm_crosstab_norm, pd.DataFrame), 'Have you created the crosstab DataFrame?'\n",
        "assert survival_fm_crosstab_norm.all().min(axis=0) >= 1.0, \"Did you multiply your values by 100?\"\n"
      ],
      "execution_count": null,
      "outputs": []
    },
    {
      "cell_type": "markdown",
      "metadata": {
        "id": "jPmpfULFFQmz"
      },
      "source": [
        "**Task 7 -** Statistical hypotheses\n",
        "\n",
        "From the list of choices below, select the null and alternative hypotheses to test for a statistically significant relationship between character sex and survival.  Specify your answer in the next code block using `Answer = `.  For example, if the correct answer is choice B, you'll type `Answer = 'B'`.\n",
        "\n",
        "A: $H_0$: Character sex and survival are related vs. $H_a$: Character sex and survival are unrelated$\n",
        "\n",
        "B: $H_0$: Character sex and survival are unrelated vs. $H_a$: Character sex and survival are related$\n",
        "\n",
        "C: $H_0: \\mu_1 \\neq \\mu_2$ vs. $H_a: \\mu_1 = \\mu_2$\n",
        "\n",
        "D: $H_0: \\mu_1 = \\mu_2$ vs. $H_a: \\mu_1 \\neq \\mu_2$"
      ]
    },
    {
      "cell_type": "code",
      "metadata": {
        "deletable": false,
        "id": "AhGVMf2tK2LF",
        "nbgrader": {
          "cell_type": "code",
          "checksum": "5ae5320c312db3a2242ab6f0b53ce9a0",
          "grade": false,
          "grade_id": "cell-30b52f5456b3b862",
          "locked": false,
          "schema_version": 3,
          "solution": true,
          "task": false
        }
      },
      "source": [
        "# Task 7\n",
        "\n",
        "# YOUR CODE HERE\n",
        "raise NotImplementedError()\n"
      ],
      "execution_count": null,
      "outputs": []
    },
    {
      "cell_type": "markdown",
      "metadata": {
        "id": "kbd9KuumLBxO"
      },
      "source": [
        "**Task 7 Test**"
      ]
    },
    {
      "cell_type": "code",
      "metadata": {
        "deletable": false,
        "editable": false,
        "id": "1DX4-ekiLBxX",
        "nbgrader": {
          "cell_type": "code",
          "checksum": "db38c6d4257b594ff862e308b8451bd7",
          "grade": true,
          "grade_id": "cell-3970fbb1a3eaefb5",
          "locked": true,
          "points": 1,
          "schema_version": 3,
          "solution": false,
          "task": false
        }
      },
      "source": [
        "# Task 7 - Test\n",
        "# Hidden tests - you will see the results when you submit to Canvas"
      ],
      "execution_count": null,
      "outputs": []
    },
    {
      "cell_type": "markdown",
      "metadata": {
        "id": "RXPZZuAi3ccI"
      },
      "source": [
        "**Task 8** - Chi-square test\n",
        "\n",
        "Perform the chi-square test above using `stats.chi2_contingency()`. The docs for this function are found [here](https://docs.scipy.org/doc/scipy/reference/generated/scipy.stats.chi2_contingency.html).\n",
        "\n",
        "* Compute the chi-square test and assign the p-value to the variable `p_val`\n",
        "* Assign the other variables returned by the function to any variable names you prefer\n"
      ]
    },
    {
      "cell_type": "code",
      "metadata": {
        "deletable": false,
        "id": "Ckcr4A4FM7cs",
        "nbgrader": {
          "cell_type": "code",
          "checksum": "5cf25f00109b073102cf50221f1f164e",
          "grade": false,
          "grade_id": "cell-59971eb26fc7eb81",
          "locked": false,
          "schema_version": 3,
          "solution": true,
          "task": false
        }
      },
      "source": [
        "# Task 8\n",
        "\n",
        "# Import the scipy.stats function\n",
        "from scipy.stats import chi2_contingency\n",
        "\n",
        "# YOUR CODE HERE\n",
        "raise NotImplementedError()\n",
        "\n",
        "# Print out the p-value\n",
        "print('The p-value is:', p_val)"
      ],
      "execution_count": null,
      "outputs": []
    },
    {
      "cell_type": "markdown",
      "metadata": {
        "id": "AdxjJWabnAV9"
      },
      "source": [
        "**Task 8 Test**"
      ]
    },
    {
      "cell_type": "code",
      "metadata": {
        "deletable": false,
        "editable": false,
        "id": "rxfmQ5dhd-uU",
        "nbgrader": {
          "cell_type": "code",
          "checksum": "d0a01ae05214928000091f1c20803ce0",
          "grade": true,
          "grade_id": "cell-5323235fa717e7a6",
          "locked": true,
          "points": 1,
          "schema_version": 3,
          "solution": false,
          "task": false
        }
      },
      "source": [
        "# Task 8 Test\n",
        "# Hidden tests - you will see the results when you submit to Canvas"
      ],
      "execution_count": null,
      "outputs": []
    },
    {
      "cell_type": "markdown",
      "metadata": {
        "id": "nusDTdXxOyUB"
      },
      "source": [
        "**Task 9**\n",
        "\n",
        "Select the correct conclusion at the 0.05 significance level from the list of choices below. Specify your answer in the next code block using `Answer = `.  For example, if the correct answer is choice B, you'll type `Answer = 'B'`.\n",
        "\n",
        "A: We reject the null hypothesis at the 0.05 significance level and conclude that character survival and sex are related.\n",
        "\n",
        "B: We fail to reject the null hypothesis at the 0.05 significance level and conclude that character survival and sex are related.\n",
        "\n",
        "C: We reject the null hypothesis at the 0.05 significance level and conclude that character survival and sex are unrelated.\n",
        "\n",
        "D: We fail to reject the null hypothesis at the 0.05 significance level and conclude that character survival and sex are unrelated.\n"
      ]
    },
    {
      "cell_type": "code",
      "metadata": {
        "deletable": false,
        "id": "d5n9MhFFOyUN",
        "nbgrader": {
          "cell_type": "code",
          "checksum": "21d78afcbddb90bb465e5e01b61dec3c",
          "grade": false,
          "grade_id": "cell-7439036abda09940",
          "locked": false,
          "schema_version": 3,
          "solution": true,
          "task": false
        }
      },
      "source": [
        "# Task 9\n",
        "\n",
        "# YOUR CODE HERE\n",
        "raise NotImplementedError()\n"
      ],
      "execution_count": null,
      "outputs": []
    },
    {
      "cell_type": "markdown",
      "metadata": {
        "id": "DWAMbt2VOyUN"
      },
      "source": [
        "**Task 9 Test**"
      ]
    },
    {
      "cell_type": "code",
      "metadata": {
        "deletable": false,
        "editable": false,
        "nbgrader": {
          "cell_type": "code",
          "checksum": "24446631f95584154a2b9556427547fe",
          "grade": true,
          "grade_id": "cell-82f8ab425d287ebf",
          "locked": true,
          "points": 1,
          "schema_version": 3,
          "solution": false,
          "task": false
        },
        "id": "K83gGtSFvJnv"
      },
      "source": [
        "# Task 9 - Test\n",
        "# Hidden tests - you will see the results when you submit to Canvas"
      ],
      "execution_count": null,
      "outputs": []
    },
    {
      "cell_type": "markdown",
      "metadata": {
        "id": "6fuCbToDLTO0"
      },
      "source": [
        "**Task 10** - Create a bar plot\n",
        "\n",
        "Create a side-by-side bar plot to illustrate the relationship between character sex and survival in slasher movies.  Sum up your overall results in a sentence or two.\n",
        "\n",
        "This task will not be autograded - but it is part of completing the project."
      ]
    },
    {
      "cell_type": "code",
      "metadata": {
        "deletable": false,
        "id": "Et5DtusY6maX",
        "nbgrader": {
          "cell_type": "code",
          "checksum": "91a96e385fa1619889e2de29a1573435",
          "grade": false,
          "grade_id": "cell-9dcec716593d4543",
          "locked": false,
          "schema_version": 3,
          "solution": true,
          "task": false
        }
      },
      "source": [
        "# Task 10\n",
        "\n",
        "# YOUR CODE HERE\n",
        "raise NotImplementedError()"
      ],
      "execution_count": null,
      "outputs": []
    },
    {
      "cell_type": "markdown",
      "metadata": {
        "id": "-5i4sKcynAV_"
      },
      "source": [
        "**Task 10** - ANSWER\n",
        "\n",
        "SHORT ANSWER HERE"
      ]
    }
  ]
}